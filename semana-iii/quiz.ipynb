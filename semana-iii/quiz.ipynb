{
 "cells": [
  {
   "cell_type": "markdown",
   "id": "bd44861d",
   "metadata": {},
   "source": [
    "# Quiz 1"
   ]
  },
  {
   "cell_type": "code",
   "execution_count": 4,
   "id": "511acc14",
   "metadata": {},
   "outputs": [
    {
     "name": "stdout",
     "output_type": "stream",
     "text": [
      "[1, 2, 3, 5, 8, 13, 21, 34, 55, 89]\n"
     ]
    }
   ],
   "source": [
    "# Questão 01:\n",
    "def a(n):\n",
    "    if n == 0:\n",
    "        return 1\n",
    "    elif n == 1:\n",
    "        return 2\n",
    "    else:\n",
    "        return a(n - 1) + a(n - 2)\n",
    "\n",
    "print([a(x) for x in range(10)])"
   ]
  },
  {
   "cell_type": "code",
   "execution_count": 5,
   "id": "19a27dde",
   "metadata": {},
   "outputs": [
    {
     "name": "stdout",
     "output_type": "stream",
     "text": [
      "Resultado 6\n",
      "Contador 3\n"
     ]
    }
   ],
   "source": [
    "# Questão 03:\n",
    "contador = 0\n",
    "\n",
    "def somar_numeros(n):\n",
    "    global contador\n",
    "    if n == 0:\n",
    "        return 0\n",
    "    else:\n",
    "        contador += 1\n",
    "        return somar_numeros(n - 1) + n\n",
    "resultado = somar_numeros(3)\n",
    "print(\"Resultado\", resultado)\n",
    "print(\"Contador\", contador)"
   ]
  },
  {
   "cell_type": "markdown",
   "id": "68f61baf",
   "metadata": {},
   "source": [
    "# Quiz 2"
   ]
  },
  {
   "cell_type": "code",
   "execution_count": 28,
   "id": "17174407",
   "metadata": {},
   "outputs": [
    {
     "name": "stdout",
     "output_type": "stream",
     "text": [
      "[1, 4, 3, 8]\n"
     ]
    }
   ],
   "source": [
    "# Questão 02:\n",
    "valores = [1,2,3,4]\n",
    "dobros = list(map(lambda x: x * 2 if x % 2 == 0 else x, valores))\n",
    "print(dobros)"
   ]
  },
  {
   "cell_type": "code",
   "execution_count": 32,
   "id": "d42ba7d6",
   "metadata": {},
   "outputs": [
    {
     "name": "stdout",
     "output_type": "stream",
     "text": [
      "5\n"
     ]
    }
   ],
   "source": [
    "# Questão 03:\n",
    "def aplicar(func):\n",
    "    return func(3)\n",
    "\n",
    "print(aplicar(lambda x, y = 2: x + y))"
   ]
  },
  {
   "cell_type": "code",
   "execution_count": 34,
   "id": "a8005a30",
   "metadata": {},
   "outputs": [
    {
     "ename": "TypeError",
     "evalue": "catching classes that do not inherit from BaseException is not allowed",
     "output_type": "error",
     "traceback": [
      "\u001b[31m---------------------------------------------------------------------------\u001b[39m",
      "\u001b[31mZeroDivisionError\u001b[39m                         Traceback (most recent call last)",
      "\u001b[36mCell\u001b[39m\u001b[36m \u001b[39m\u001b[32mIn[34]\u001b[39m\u001b[32m, line 3\u001b[39m\n\u001b[32m      2\u001b[39m \u001b[38;5;28;01mtry\u001b[39;00m:\n\u001b[32m----> \u001b[39m\u001b[32m3\u001b[39m     resultado = \u001b[32;43m10\u001b[39;49m\u001b[43m \u001b[49m\u001b[43m/\u001b[49m\u001b[43m \u001b[49m\u001b[32;43m0\u001b[39;49m\n\u001b[32m      4\u001b[39m \u001b[38;5;28;01mexcept\u001b[39;00m \u001b[38;5;129;01mnot\u001b[39;00m \u001b[38;5;167;01mZeroDivisionError\u001b[39;00m:\n",
      "\u001b[31mZeroDivisionError\u001b[39m: division by zero",
      "\nDuring handling of the above exception, another exception occurred:\n",
      "\u001b[31mTypeError\u001b[39m                                 Traceback (most recent call last)",
      "\u001b[36mCell\u001b[39m\u001b[36m \u001b[39m\u001b[32mIn[34]\u001b[39m\u001b[32m, line 4\u001b[39m\n\u001b[32m      2\u001b[39m \u001b[38;5;28;01mtry\u001b[39;00m:\n\u001b[32m      3\u001b[39m     resultado = \u001b[32m10\u001b[39m / \u001b[32m0\u001b[39m\n\u001b[32m----> \u001b[39m\u001b[32m4\u001b[39m \u001b[38;5;28;01mexcept\u001b[39;00m \u001b[38;5;129;01mnot\u001b[39;00m \u001b[38;5;167;01mZeroDivisionError\u001b[39;00m:\n\u001b[32m      5\u001b[39m     resultado = \u001b[33m\"\u001b[39m\u001b[33mErro: Divisão por zero\u001b[39m\u001b[33m\"\u001b[39m\n\u001b[32m      6\u001b[39m \u001b[38;5;28mprint\u001b[39m(resultado)\n",
      "\u001b[31mTypeError\u001b[39m: catching classes that do not inherit from BaseException is not allowed"
     ]
    }
   ],
   "source": [
    "# Questão 04:\n",
    "try:\n",
    "    resultado = 10 / 0\n",
    "except not ZeroDivisionError:\n",
    "    resultado = \"Erro: Divisão por zero\"\n",
    "print(resultado)"
   ]
  },
  {
   "cell_type": "markdown",
   "id": "975b067d",
   "metadata": {},
   "source": [
    "# Quiz 3"
   ]
  },
  {
   "cell_type": "code",
   "execution_count": null,
   "id": "f1e36bcd",
   "metadata": {},
   "outputs": [
    {
     "name": "stdout",
     "output_type": "stream",
     "text": [
      "150\n"
     ]
    }
   ],
   "source": [
    "# Questão 03:\n",
    "class Conta:\n",
    "    def __init__(self, saldo):\n",
    "        self.saldo = saldo\n",
    "\n",
    "    def depositar(self, valor):\n",
    "        self.saldo += valor\n",
    "\n",
    "c = Conta(100)\n",
    "c.depositar(50)\n",
    "print(c.saldo)"
   ]
  },
  {
   "cell_type": "code",
   "execution_count": 49,
   "id": "1dd7499a",
   "metadata": {},
   "outputs": [
    {
     "ename": "TypeError",
     "evalue": "Carro.__init__() takes 1 positional argument but 2 were given",
     "output_type": "error",
     "traceback": [
      "\u001b[31m---------------------------------------------------------------------------\u001b[39m",
      "\u001b[31mTypeError\u001b[39m                                 Traceback (most recent call last)",
      "\u001b[36mCell\u001b[39m\u001b[36m \u001b[39m\u001b[32mIn[49]\u001b[39m\u001b[32m, line 6\u001b[39m\n\u001b[32m      3\u001b[39m     \u001b[38;5;28;01mdef\u001b[39;00m\u001b[38;5;250m \u001b[39m\u001b[34m__init__\u001b[39m(modelo):\n\u001b[32m      4\u001b[39m         \u001b[38;5;28mself\u001b[39m.modelo = modelo\n\u001b[32m----> \u001b[39m\u001b[32m6\u001b[39m meu_carro = \u001b[43mCarro\u001b[49m\u001b[43m(\u001b[49m\u001b[33;43m\"\u001b[39;49m\u001b[33;43mCivic\u001b[39;49m\u001b[33;43m\"\u001b[39;49m\u001b[43m)\u001b[49m\n\u001b[32m      7\u001b[39m \u001b[38;5;28mprint\u001b[39m(meu_carro.modelo)\n",
      "\u001b[31mTypeError\u001b[39m: Carro.__init__() takes 1 positional argument but 2 were given"
     ]
    }
   ],
   "source": [
    "# Questão 04:\n",
    "class Carro:\n",
    "    def __init__(modelo):\n",
    "        self.modelo = modelo\n",
    "\n",
    "meu_carro = Carro(\"Civic\")\n",
    "print(meu_carro.modelo)"
   ]
  }
 ],
 "metadata": {
  "kernelspec": {
   "display_name": ".venv",
   "language": "python",
   "name": "python3"
  },
  "language_info": {
   "codemirror_mode": {
    "name": "ipython",
    "version": 3
   },
   "file_extension": ".py",
   "mimetype": "text/x-python",
   "name": "python",
   "nbconvert_exporter": "python",
   "pygments_lexer": "ipython3",
   "version": "3.11.2"
  }
 },
 "nbformat": 4,
 "nbformat_minor": 5
}
