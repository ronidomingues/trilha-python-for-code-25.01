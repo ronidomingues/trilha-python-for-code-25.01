{
 "cells": [
  {
   "cell_type": "markdown",
   "id": "e1cdc342",
   "metadata": {},
   "source": [
    "# QUIZ 01"
   ]
  },
  {
   "cell_type": "code",
   "execution_count": 2,
   "id": "4858e4ad",
   "metadata": {},
   "outputs": [
    {
     "ename": "ValueError",
     "evalue": "invalid literal for int() with base 10: 'flora'",
     "output_type": "error",
     "traceback": [
      "\u001b[31m---------------------------------------------------------------------------\u001b[39m",
      "\u001b[31mValueError\u001b[39m Traceback (most recent call last)",
      "\u001b[36mCell\u001b[39m\u001b[36m \u001b[39m\u001b[32mIn[2]\u001b[39m\u001b[32m, line 2\u001b[39m\n\u001b[32m 1\u001b[39m \u001b[38;5;66;03m# Questão 1\u001b[39;00m\n\u001b[32m----> \u001b[39m\u001b[32m2\u001b[39m x = \u001b[38;5;28;43mint\u001b[39;49m\u001b[43m(\u001b[49m\u001b[33;43m\"\u001b[39;49m\u001b[33;43mflora\u001b[39;49m\u001b[33;43m\"\u001b[39;49m\u001b[43m)\u001b[49m\n\u001b[32m 3\u001b[39m \u001b[38;5;28mprint\u001b[39m(\u001b[38;5;28mtype\u001b[39m(x))\n",
      "\u001b[31mValueError\u001b[39m: invalid literal for int() with base 10: 'flora'"
     ]
    }
   ],
   "source": [
    "# Questão 1\n",
    "x = int(\"flora\")\n",
    "print(type(x))"
   ]
  },
  {
   "cell_type": "code",
   "execution_count": null,
   "id": "c39b0472",
   "metadata": {},
   "outputs": [
    {
     "name": "stdout",
     "output_type": "stream",
     "text": [
      "<class 'list'>\n"
     ]
    }
   ],
   "source": [
    "# Questão 2\n",
    "x = [1, 2, 3]\n",
    "print(type(x))"
   ]
  },
  {
   "cell_type": "code",
   "execution_count": null,
   "id": "1b0f0b65",
   "metadata": {},
   "outputs": [
    {
     "name": "stdout",
     "output_type": "stream",
     "text": [
      "CC\n"
     ]
    }
   ],
   "source": [
    "# Questao 3\n",
    "A = \"B\"\n",
    "B = \"C\"\n",
    "C = B\n",
    "print(C + B)"
   ]
  },
  {
   "cell_type": "code",
   "execution_count": null,
   "id": "f1eb9ed0",
   "metadata": {},
   "outputs": [
    {
     "ename": "ValueError",
     "evalue": "invalid literal for int() with base 10: '3.14'",
     "output_type": "error",
     "traceback": [
      "\u001b[0;31m---------------------------------------------------------------------------\u001b[0m",
      "\u001b[0;31mValueError\u001b[0m Traceback (most recent call last)",
      "Cell \u001b[0;32mIn [5], line 2\u001b[0m\n\u001b[1;32m 1\u001b[0m \u001b[38;5;66;03m# Questão 4\u001b[39;00m\n\u001b[0;32m----> 2\u001b[0m x \u001b[38;5;241m=\u001b[39m \u001b[38;5;28;43mint\u001b[39;49m\u001b[43m(\u001b[49m\u001b[38;5;124;43m\"\u001b[39;49m\u001b[38;5;124;43m3.14\u001b[39;49m\u001b[38;5;124;43m\"\u001b[39;49m\u001b[43m)\u001b[49m\n\u001b[1;32m 3\u001b[0m \u001b[38;5;28mprint\u001b[39m(x)\n",
      "\u001b[0;31mValueError\u001b[0m: invalid literal for int() with base 10: '3.14'"
     ]
    }
   ],
   "source": [
    "# Questão 4\n",
    "x = int(\"3.14\")\n",
    "print(x)"
   ]
  },
  {
   "cell_type": "code",
   "execution_count": null,
   "id": "53d2199b",
   "metadata": {},
   "outputs": [
    {
     "name": "stdout",
     "output_type": "stream",
     "text": [
      "34\n"
     ]
    }
   ],
   "source": [
    "# Questão 5\n",
    "a = \"3\"\n",
    "b = \"4\"\n",
    "c = a + b\n",
    "print(c)"
   ]
  },
  {
   "cell_type": "code",
   "execution_count": null,
   "id": "a349b48d",
   "metadata": {},
   "outputs": [
    {
     "name": "stdout",
     "output_type": "stream",
     "text": [
      "7\n"
     ]
    }
   ],
   "source": [
    "# Questão 6\n",
    "a = int(\"3\")\n",
    "b = int(\"4\")\n",
    "c = a + b\n",
    "print(c)"
   ]
  },
  {
   "cell_type": "code",
   "execution_count": 1,
   "id": "60ddb0ec",
   "metadata": {},
   "outputs": [
    {
     "ename": "TypeError",
     "evalue": "can only concatenate str (not \"int\") to str",
     "output_type": "error",
     "traceback": [
      "\u001b[31m---------------------------------------------------------------------------\u001b[39m",
      "\u001b[31mTypeError\u001b[39m                                 Traceback (most recent call last)",
      "\u001b[36mCell\u001b[39m\u001b[36m \u001b[39m\u001b[32mIn[1]\u001b[39m\u001b[32m, line 4\u001b[39m\n\u001b[32m      2\u001b[39m a = \u001b[33m\"\u001b[39m\u001b[33m3\u001b[39m\u001b[33m\"\u001b[39m\n\u001b[32m      3\u001b[39m b = \u001b[32m4\u001b[39m\n\u001b[32m----> \u001b[39m\u001b[32m4\u001b[39m c = \u001b[43ma\u001b[49m\u001b[43m \u001b[49m\u001b[43m+\u001b[49m\u001b[43m \u001b[49m\u001b[43mb\u001b[49m\n\u001b[32m      5\u001b[39m \u001b[38;5;28mprint\u001b[39m(c)\n",
      "\u001b[31mTypeError\u001b[39m: can only concatenate str (not \"int\") to str"
     ]
    }
   ],
   "source": [
    "# Questão 7\n",
    "a = \"3\"\n",
    "b = 4\n",
    "c = a + b\n",
    "print(c)"
   ]
  },
  {
   "cell_type": "markdown",
   "id": "6c922fa2",
   "metadata": {},
   "source": [
    "# QUIZ 2"
   ]
  },
  {
   "cell_type": "code",
   "execution_count": 2,
   "id": "3feb64a2",
   "metadata": {},
   "outputs": [
    {
     "name": "stdout",
     "output_type": "stream",
     "text": [
      "Python\n"
     ]
    }
   ],
   "source": [
    "# Questão 01\n",
    "a = \"Py\"\n",
    "b = \"thon\"\n",
    "print(a + b)"
   ]
  },
  {
   "cell_type": "code",
   "execution_count": 3,
   "id": "e93da44f",
   "metadata": {},
   "outputs": [
    {
     "name": "stdout",
     "output_type": "stream",
     "text": [
      "hahaha\n"
     ]
    }
   ],
   "source": [
    "# Questão 02\n",
    "x = \"ha\" * 3\n",
    "print(x)"
   ]
  },
  {
   "cell_type": "code",
   "execution_count": 4,
   "id": "bdd7e702",
   "metadata": {},
   "outputs": [
    {
     "ename": "TypeError",
     "evalue": "can only concatenate str (not \"int\") to str",
     "output_type": "error",
     "traceback": [
      "\u001b[31m---------------------------------------------------------------------------\u001b[39m",
      "\u001b[31mTypeError\u001b[39m                                 Traceback (most recent call last)",
      "\u001b[36mCell\u001b[39m\u001b[36m \u001b[39m\u001b[32mIn[4]\u001b[39m\u001b[32m, line 4\u001b[39m\n\u001b[32m      2\u001b[39m nome = \u001b[33m\"\u001b[39m\u001b[33mAna\u001b[39m\u001b[33m\"\u001b[39m\n\u001b[32m      3\u001b[39m idade = \u001b[32m20\u001b[39m\n\u001b[32m----> \u001b[39m\u001b[32m4\u001b[39m \u001b[38;5;28mprint\u001b[39m(\u001b[43mnome\u001b[49m\u001b[43m \u001b[49m\u001b[43m+\u001b[49m\u001b[43m \u001b[49m\u001b[43midade\u001b[49m)\n",
      "\u001b[31mTypeError\u001b[39m: can only concatenate str (not \"int\") to str"
     ]
    }
   ],
   "source": [
    "# Questão 03\n",
    "nome = \"Ana\"\n",
    "idade = 20\n",
    "print(nome + idade)"
   ]
  },
  {
   "cell_type": "code",
   "execution_count": 5,
   "id": "b79b56eb",
   "metadata": {},
   "outputs": [
    {
     "name": "stdout",
     "output_type": "stream",
     "text": [
      "r\n"
     ]
    }
   ],
   "source": [
    "# Questão 04\n",
    "frase = \"Aprender\"\n",
    "print(frase[-1])  # Último caractere"
   ]
  },
  {
   "cell_type": "code",
   "execution_count": 6,
   "id": "71288f79",
   "metadata": {},
   "outputs": [
    {
     "name": "stdout",
     "output_type": "stream",
     "text": [
      "PYTHON\n"
     ]
    }
   ],
   "source": [
    "# Questão 05\n",
    "s = \"Python\"\n",
    "print(s.upper())"
   ]
  },
  {
   "cell_type": "code",
   "execution_count": 7,
   "id": "428c3ec6",
   "metadata": {},
   "outputs": [
    {
     "name": "stdout",
     "output_type": "stream",
     "text": [
      "True\n"
     ]
    }
   ],
   "source": [
    "# Questão 06\n",
    "msg = \"estudar python é divertido\"\n",
    "print('python' in msg)"
   ]
  },
  {
   "cell_type": "code",
   "execution_count": 8,
   "id": "498c3e2a",
   "metadata": {},
   "outputs": [
    {
     "name": "stdout",
     "output_type": "stream",
     "text": [
      "bamm\n"
     ]
    }
   ],
   "source": [
    "# Questão 07\n",
    "texto = \"banana\"\n",
    "print(texto.replace(\"na\", \"m\"))"
   ]
  },
  {
   "cell_type": "code",
   "execution_count": 9,
   "id": "a48fa0ff",
   "metadata": {},
   "outputs": [
    {
     "name": "stdout",
     "output_type": "stream",
     "text": [
      "bom dia\n"
     ]
    }
   ],
   "source": [
    "# Questão 08\n",
    "a = \"bom\"\n",
    "b = \"dia\"\n",
    "print(a + \" \" + b)"
   ]
  },
  {
   "cell_type": "markdown",
   "id": "82bb82a9",
   "metadata": {},
   "source": [
    "# QUIZ 3"
   ]
  },
  {
   "cell_type": "code",
   "execution_count": 10,
   "id": "0c583c80",
   "metadata": {},
   "outputs": [
    {
     "name": "stdout",
     "output_type": "stream",
     "text": [
      "uva\n"
     ]
    }
   ],
   "source": [
    "# Questão 01:\n",
    "lista = [\"maçã\", \"banana\", \"uva\"]\n",
    "print(lista[-1])"
   ]
  },
  {
   "cell_type": "code",
   "execution_count": 11,
   "id": "d39b94f3",
   "metadata": {},
   "outputs": [
    {
     "name": "stdout",
     "output_type": "stream",
     "text": [
      "[1, 2, 3, 4]\n"
     ]
    }
   ],
   "source": [
    "# Questão 02:\n",
    "a = [1, 2]\n",
    "b = [3, 4]\n",
    "print(a + b)"
   ]
  },
  {
   "cell_type": "code",
   "execution_count": 12,
   "id": "18936442",
   "metadata": {},
   "outputs": [
    {
     "name": "stdout",
     "output_type": "stream",
     "text": [
      "[3, 4]\n"
     ]
    }
   ],
   "source": [
    "# Questão 03:\n",
    "x = [[1, 2], [3, 4]]\n",
    "print(x[1])"
   ]
  },
  {
   "cell_type": "code",
   "execution_count": 13,
   "id": "e2ce03bf",
   "metadata": {},
   "outputs": [
    {
     "name": "stdout",
     "output_type": "stream",
     "text": [
      "3\n"
     ]
    }
   ],
   "source": [
    "# Questão 04:\n",
    "x = [[1, 2], [3, 4]]\n",
    "print(x[1][0])"
   ]
  },
  {
   "cell_type": "code",
   "execution_count": 14,
   "id": "c9872ac4",
   "metadata": {},
   "outputs": [
    {
     "name": "stdout",
     "output_type": "stream",
     "text": [
      "[5, 4, 3, 2, 1]\n"
     ]
    }
   ],
   "source": [
    "# Questão 05:\n",
    "numeros = [1, 2, 3, 4, 5]\n",
    "print(numeros[ : :-1])"
   ]
  },
  {
   "cell_type": "code",
   "execution_count": 15,
   "id": "65611b8e",
   "metadata": {},
   "outputs": [
    {
     "name": "stdout",
     "output_type": "stream",
     "text": [
      "laranja\n"
     ]
    }
   ],
   "source": [
    "# Questão 06:\n",
    "frutas = [\"maçã\", \"banana\", \"uva\", \"laranja\"]\n",
    "print(frutas[-1])"
   ]
  },
  {
   "cell_type": "code",
   "execution_count": 16,
   "id": "f0f35e27",
   "metadata": {},
   "outputs": [
    {
     "name": "stdout",
     "output_type": "stream",
     "text": [
      "2\n"
     ]
    }
   ],
   "source": [
    "# Questão 07:\n",
    "x = [[1, 2], 3]\n",
    "print(x[0][1])"
   ]
  },
  {
   "cell_type": "code",
   "execution_count": 17,
   "id": "d4afa7ec",
   "metadata": {},
   "outputs": [
    {
     "name": "stdout",
     "output_type": "stream",
     "text": [
      "[0, 0, 0, 0]\n"
     ]
    }
   ],
   "source": [
    "# Questão 08:\n",
    "x = [0] * 4\n",
    "print(x)"
   ]
  },
  {
   "cell_type": "markdown",
   "id": "a28adc59",
   "metadata": {},
   "source": [
    "# QUIZ 4"
   ]
  },
  {
   "cell_type": "code",
   "execution_count": 18,
   "id": "5cc6d810",
   "metadata": {},
   "outputs": [
    {
     "name": "stdout",
     "output_type": "stream",
     "text": [
      "12\n"
     ]
    }
   ],
   "source": [
    "# Questão 01:\n",
    "numeros = [2, 3, 2, 2, 4]\n",
    "operadores = ['+', '-', '*', '/', '**', \"()\"]\n",
    "resultado = 3*4+(2-2)**2\n",
    "print(resultado)"
   ]
  },
  {
   "cell_type": "code",
   "execution_count": 19,
   "id": "729898cb",
   "metadata": {},
   "outputs": [
    {
     "name": "stdout",
     "output_type": "stream",
     "text": [
      "15\n"
     ]
    }
   ],
   "source": [
    "# Questão 02:\n",
    "var = -15\n",
    "var_absoluto = abs(var)\n",
    "print(var_absoluto)"
   ]
  },
  {
   "cell_type": "code",
   "execution_count": 20,
   "id": "039acc19",
   "metadata": {},
   "outputs": [
    {
     "name": "stdout",
     "output_type": "stream",
     "text": [
      "5.2\n"
     ]
    }
   ],
   "source": [
    "# Questão 03:\n",
    "var = 5.19265\n",
    "var_arredondada = round(var, 1)\n",
    "print(var_arredondada)"
   ]
  },
  {
   "cell_type": "code",
   "execution_count": 21,
   "id": "06254e54",
   "metadata": {},
   "outputs": [
    {
     "ename": "AttributeError",
     "evalue": "'int' object has no attribute 'capitalize'",
     "output_type": "error",
     "traceback": [
      "\u001b[31m---------------------------------------------------------------------------\u001b[39m",
      "\u001b[31mAttributeError\u001b[39m                            Traceback (most recent call last)",
      "\u001b[36mCell\u001b[39m\u001b[36m \u001b[39m\u001b[32mIn[21]\u001b[39m\u001b[32m, line 3\u001b[39m\n\u001b[32m      1\u001b[39m \u001b[38;5;66;03m# Questão 04:\u001b[39;00m\n\u001b[32m      2\u001b[39m x = \u001b[32m10\u001b[39m\n\u001b[32m----> \u001b[39m\u001b[32m3\u001b[39m \u001b[38;5;28mprint\u001b[39m(\u001b[43mx\u001b[49m\u001b[43m.\u001b[49m\u001b[43mcapitalize\u001b[49m())\n",
      "\u001b[31mAttributeError\u001b[39m: 'int' object has no attribute 'capitalize'"
     ]
    }
   ],
   "source": [
    "# Questão 04:\n",
    "x = 10\n",
    "print(x.capitalize())"
   ]
  },
  {
   "cell_type": "code",
   "execution_count": 22,
   "id": "52886c12",
   "metadata": {},
   "outputs": [
    {
     "name": "stdout",
     "output_type": "stream",
     "text": [
      "1\n"
     ]
    }
   ],
   "source": [
    "# Questão 05:\n",
    "total_de_doces = 91\n",
    "total_de_crianças = 3\n",
    "doces_que_sobram = total_de_doces % total_de_crianças\n",
    "print(doces_que_sobram)"
   ]
  },
  {
   "cell_type": "code",
   "execution_count": 23,
   "id": "1c6ed8dc",
   "metadata": {},
   "outputs": [
    {
     "name": "stdout",
     "output_type": "stream",
     "text": [
      "7\n"
     ]
    }
   ],
   "source": [
    "# Questão 06:\n",
    "valor = int(float(\"7.9\"))\n",
    "print(valor)"
   ]
  },
  {
   "cell_type": "code",
   "execution_count": 24,
   "id": "2ea09d82",
   "metadata": {},
   "outputs": [
    {
     "name": "stdout",
     "output_type": "stream",
     "text": [
      "<class 'float'>\n"
     ]
    }
   ],
   "source": [
    "# QUestão 07:\n",
    "a = 10\n",
    "b = 0.5\n",
    "resultado = a + b\n",
    "print(type(resultado))"
   ]
  }
 ],
 "metadata": {
  "kernelspec": {
   "display_name": ".venv",
   "language": "python",
   "name": "python3"
  },
  "language_info": {
   "codemirror_mode": {
    "name": "ipython",
    "version": 3
   },
   "file_extension": ".py",
   "mimetype": "text/x-python",
   "name": "python",
   "nbconvert_exporter": "python",
   "pygments_lexer": "ipython3",
   "version": "3.11.2"
  }
 },
 "nbformat": 4,
 "nbformat_minor": 5
}
